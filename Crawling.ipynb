{
 "cells": [
  {
   "cell_type": "markdown",
   "id": "d90912b2-5592-44d3-88de-ceee534afef2",
   "metadata": {},
   "source": [
    "# 1. Git\n",
    "\n",
    "* 버전관리 시스템의 종류\n",
    "* 버전관리 : 여러 파일을 하나의 버전으로 묶어 관리하는 것"
   ]
  },
  {
   "cell_type": "markdown",
   "id": "f2a6ae8d-1d38-4094-8e23-dc8656af0343",
   "metadata": {},
   "source": [
    "### 1-1. 버전관리 시스템의 종류\n",
    "1. 클라이언트 - 서버 모델: 하나의 중앙 서버로 여러 클라이언트들이 각자 필요한 것만 가져와서 작업을 하고 다시 중앙 서버로 보내서 통합하는 방식을 말합니다.(svn,cvs) 옛날이라 요즘잘 안씀\n",
    "2. 분산 모델: 하나의 중앙 서버가 존재하지만, 여러 클라이언트들은 각자의 컴퓨터에 저장소에 전체 사본을 가지고 작업하는 방식(Git)"
   ]
  },
  {
   "cell_type": "markdown",
   "id": "1d85e87b-00c6-45c0-aefc-fd8c0b727512",
   "metadata": {},
   "source": [
    "### 1-2. git의 장점\n",
    "* 동시에 작업하는 사람이 있더라도 동시에 작업하는 사람들과 소스코드를 주고받을 필요가 없음\n",
    "* 같은 파일을 여러명이 동시에 병렬개발이 가능함\n",
    "* 변동 과정을 체계적으로 관리할 수 있고, 언제든지 지난 시점의 버전으로 되돌릴 수 있음\n",
    "* 인터넷이 연결되지 않은 곳에서도 개발을 진행할 수 있고, 중앙 서버의 데이터가 유실되어도 다시 복구할 수 있음"
   ]
  },
  {
   "attachments": {
    "a47f21f3-a549-4282-a354-53515b31893f.png": {
     "image/png": "[encoded data removed]"
    }
   },
   "cell_type": "markdown",
   "id": "9fa57179-d221-4407-b01c-de1538a7cb6e",
   "metadata": {},
   "source": [
    "### 1-3. Git설치\n",
    "1. 구글 git 설치 검색\n",
    "2. 다운로드 설치(https://git-scm.com/downloads/win)\n",
    "3. 모니터 이미지에 있는 다운로드 클릭\n",
    "4. 64-bit Git for Windows Setup. 설치 기본설정으로 쭉 next 누르면 됨.\n",
    "5. 설치가 끝난 후 git bash실행 후 git --version명령으로 버전확인\n",
    "\n",
    "\n",
    "![image.png](attachment:a47f21f3-a549-4282-a354-53515b31893f.png)\n"
   ]
  },
  {
   "cell_type": "markdown",
   "id": "c3aa2e3b-848a-4762-8384-85c3b2605310",
   "metadata": {},
   "source": [
    "# **2. git 명령어**\n"
   ]
  },
  {
   "cell_type": "markdown",
   "id": "63d5b3f7-2d61-4b0e-806e-68abd037ffa5",
   "metadata": {},
   "source": [
    "### 2-1 프로젝트 디렉토리 내 ' 로컬 저장소 ' 를 생성하기\n",
    "* 원하는 프로젝트 위치로 이동 후 'git init'를 실행하기\n"
   ]
  },
  {
   "cell_type": "code",
   "execution_count": 1,
   "id": "db877667-f4b4-4cb7-8e5d-6c2f94f51164",
   "metadata": {},
   "outputs": [
    {
     "name": "stdout",
     "output_type": "stream",
     "text": [
      "Initialized empty Git repository in C:/LHJ/jupyter/.git/\n"
     ]
    }
   ],
   "source": [
    "!git init"
   ]
  },
  {
   "cell_type": "markdown",
   "id": "6a856bfb-8150-4082-a57a-125076e0037e",
   "metadata": {},
   "source": [
    "## 2-2. 버전을 관리할 파일을 선택(stage에 올림)"
   ]
  },
  {
   "cell_type": "code",
   "execution_count": 2,
   "id": "e8ca9764-71b4-4eab-9c44-fff421003d5b",
   "metadata": {},
   "outputs": [
    {
     "name": "stderr",
     "output_type": "stream",
     "text": [
      "warning: in the working copy of 'Crawling.ipynb', LF will be replaced by CRLF the next time Git touches it\n"
     ]
    }
   ],
   "source": [
    "#!git add 폴더명\n",
    "!git add Crawling.ipynb\n",
    "\n",
    "#파일 한개는 add .\n",
    "#빼는건 .ignore"
   ]
  },
  {
   "cell_type": "markdown",
   "id": "4f3a23d0-7182-4d17-9dee-4f4e616f9ccf",
   "metadata": {},
   "source": [
    "### 2-3. 하나의 버전으로 만들기\n",
    "* 로컬(내컴퓨터) 시스템에서 파일을 생성하거나 수정하거나 삭제한 파일들을 선별하여 버전을 만드는 것\n",
    "* 파일이 변경될 때 변경 사항은 자동으로 저장되지 않음\n",
    "* git에게 새 커밋을 생성하여 변경 사항을 저장하도록 지시하는것을 이야기 합니다."
   ]
  },
  {
   "cell_type": "code",
   "execution_count": 6,
   "id": "0e0e4408-17f8-4802-a55e-e42c852f76b8",
   "metadata": {},
   "outputs": [
    {
     "name": "stdout",
     "output_type": "stream",
     "text": [
      "[master (root-commit) 660e657] 泥� 而ㅻ컠\n",
      " 1 file changed, 132 insertions(+)\n",
      " create mode 100644 Crawling.ipynb\n"
     ]
    }
   ],
   "source": [
    "#사용방법\n",
    "#!git commit -m \"첫 커밋\"\n",
    "!git commit -m \"첫 커밋\"\n"
   ]
  },
  {
   "cell_type": "code",
   "execution_count": 5,
   "id": "c783a30c-c99c-4874-9c21-b6a459564dc1",
   "metadata": {},
   "outputs": [],
   "source": [
    "# 위와같은 에러가 발생한 경우\n",
    "!git config --global user.email \"hjl0610@naver.com\"\n",
    "!git config --global user.name \"이현주\""
   ]
  },
  {
   "cell_type": "code",
   "execution_count": null,
   "id": "a50df08c-2af2-4814-a660-9e2818fc8727",
   "metadata": {},
   "outputs": [],
   "source": [
    "#만약 이메일 또는 이름을 잘 못 입력한 경우 등록과 동일하게 진행하면 됨\n",
    "!git config --global user.email \"hjl0610@naver.com\"\n",
    "!git config --global user.name \"이현주\""
   ]
  },
  {
   "cell_type": "markdown",
   "id": "4f0ab676-ec57-4eea-a862-9c1a610eeaff",
   "metadata": {},
   "source": [
    "### 2-4. 로그 확인하기"
   ]
  },
  {
   "cell_type": "code",
   "execution_count": 7,
   "id": "0b33f513-6952-4347-9443-e14ca8d78532",
   "metadata": {},
   "outputs": [
    {
     "name": "stdout",
     "output_type": "stream",
     "text": [
      "commit 660e657ff806f01bf581ff212d298bb7b6731bf5\n",
      "Author: �씠�쁽二� <hjl0610@naver.com>\n",
      "Date:   Mon Sep 30 21:26:10 2024 +0900\n",
      "\n",
      "    泥� 而ㅻ컠\n"
     ]
    }
   ],
   "source": [
    "!git log"
   ]
  },
  {
   "cell_type": "markdown",
   "id": "756f59f7-ca17-4771-92ef-6e0ba8bdb55f",
   "metadata": {},
   "source": [
    "### 2-5.README.md 만들기\n",
    "* 깃허브에 업로드시 저장소 메인 설명글로 사용되는 파일\n",
    "* 마크다운으로 작성"
   ]
  },
  {
   "cell_type": "markdown",
   "id": "8b9593b4-6404-489b-95b0-649665a75a85",
   "metadata": {},
   "source": [
    "### 2-6. 여러 파일을 함께 선택하기\n",
    "* state에 현재 디렉토리에 있는 변화된 모든 파일을 선택"
   ]
  },
  {
   "cell_type": "code",
   "execution_count": 8,
   "id": "f1d6ec10-2b8f-4b28-aa66-24661cb90ea3",
   "metadata": {},
   "outputs": [
    {
     "name": "stderr",
     "output_type": "stream",
     "text": [
      "warning: in the working copy of 'Crawling.ipynb', LF will be replaced by CRLF the next time Git touches it\n",
      "warning: in the working copy of '.ipynb_checkpoints/Crawling-checkpoint.ipynb', LF will be replaced by CRLF the next time Git touches it\n",
      "warning: in the working copy of '.ipynb_checkpoints/Untitled-checkpoint.ipynb', LF will be replaced by CRLF the next time Git touches it\n"
     ]
    }
   ],
   "source": [
    "!git add ."
   ]
  },
  {
   "cell_type": "markdown",
   "id": "f4eea964-9ce8-41fb-bbe5-e36c66875c8f",
   "metadata": {},
   "source": [
    "### 2-7.선택된 여러 파일을 커밋"
   ]
  },
  {
   "cell_type": "code",
   "execution_count": 9,
   "id": "ecf0c667-2bce-4583-b4af-05d716ba54ef",
   "metadata": {},
   "outputs": [
    {
     "name": "stdout",
     "output_type": "stream",
     "text": [
      "[master 3c21e14] �쁽�옱 �뵒�젆�넗由ъ뿉 �엳�뒗 紐⑤뱺 蹂�寃쎈맂 �뙆�씪�쓣 而ㅻ컠\n",
      " 4 files changed, 437 insertions(+), 2 deletions(-)\n",
      " create mode 100644 .ipynb_checkpoints/Crawling-checkpoint.ipynb\n",
      " create mode 100644 .ipynb_checkpoints/Untitled-checkpoint.ipynb\n",
      " create mode 100644 README.md\n"
     ]
    }
   ],
   "source": [
    "!git commit -m \"현재 디렉토리에 있는 모든 변경된 파일을 커밋\""
   ]
  },
  {
   "cell_type": "markdown",
   "id": "8ebf68c9-9c31-449b-9274-049a637e3944",
   "metadata": {},
   "source": [
    "# **3. 깃허브(Git-Hub)**\n",
    "* git으로 버전 관리한 코드를 업로드 할 수 있는 클라우드 서비스\n",
    "* 단순히 저장만 하는 것이 아니라 다른 유저들과 함께 코드를 공유하고 온라인으로 하나의 프로젝트를 개발할 수 있게 해줌\n",
    "* https://github.com/"
   ]
  },
  {
   "cell_type": "markdown",
   "id": "54fc11f7-52fe-489d-858e-89d7881b4cc8",
   "metadata": {},
   "source": [
    "### 3-1. 로컬 저장소에서 github 저장소 주소를 설정하기\n"
   ]
  },
  {
   "cell_type": "code",
   "execution_count": 9,
   "id": "47fc5872-1a75-43fb-8963-2078f8eba665",
   "metadata": {},
   "outputs": [],
   "source": [
    "# https://github.com/Leeruru106/Crawling.git\n",
    "# 내깃허브 레파지토리 만들어놓은 주소\n",
    "!git remote add origin https://github.com/Leeruru106/Crawling.git"
   ]
  },
  {
   "cell_type": "code",
   "execution_count": 5,
   "id": "09183a01-75a2-4631-84e9-1a55ca71c78f",
   "metadata": {},
   "outputs": [
    {
     "name": "stdout",
     "output_type": "stream",
     "text": [
      "origin\thttps://github.com/Leeruru106/Crawling.git (fetch)\n",
      "origin\thttps://github.com/Leeruru106/Crawling.git (push)\n"
     ]
    }
   ],
   "source": [
    "# 확인하기\n",
    "!git remote -v"
   ]
  },
  {
   "cell_type": "code",
   "execution_count": 6,
   "id": "64ce4e55-424a-42d0-80f9-bf02809be297",
   "metadata": {},
   "outputs": [],
   "source": [
    "# 삭제하기\n",
    "!git remote remove origin"
   ]
  },
  {
   "cell_type": "code",
   "execution_count": 8,
   "id": "fe7ab7db-dfdd-44aa-9b08-547ddc7cf12f",
   "metadata": {},
   "outputs": [],
   "source": [
    "# 확인하기 (위에서 삭제했으니 없애야함)\n",
    "!git remote -v"
   ]
  },
  {
   "cell_type": "markdown",
   "id": "9a966eb4-d090-4e92-8e31-f6d867fde402",
   "metadata": {},
   "source": [
    "### 3-2. 생성한 커밋(버전들)을  github로 전송하기"
   ]
  },
  {
   "cell_type": "code",
   "execution_count": 11,
   "id": "10100246-fe51-448b-a185-2b6c2529559b",
   "metadata": {},
   "outputs": [
    {
     "name": "stdout",
     "output_type": "stream",
     "text": [
      "branch 'master' set up to track 'origin/master'.\n"
     ]
    },
    {
     "name": "stderr",
     "output_type": "stream",
     "text": [
      "To https://github.com/Leeruru106/Crawling.git\n",
      " * [new branch]      master -> master\n"
     ]
    }
   ],
   "source": [
    "# -u : upstream(원격저장소와 로컬 브랜치가 추적하는 브랜치를 의미. 기본적으로 origin/master 브랜치를 추적함)\n",
    "!git push -u origin master"
   ]
  },
  {
   "cell_type": "markdown",
   "id": "e9e0ff39-7c8d-474a-ad2a-3f54e3f9dd54",
   "metadata": {},
   "source": [
    "### 3-3.Git Repository Clone\n",
    "* Repository를 로컬 시스템에 복제하는 방법을 이야기함.\n",
    "* 지금까지 모든 Repository의 히스토리를 포함\n"
   ]
  },
  {
   "cell_type": "code",
   "execution_count": 12,
   "id": "8518ab52-7922-4c26-b433-3e300eedaeab",
   "metadata": {},
   "outputs": [
    {
     "name": "stderr",
     "output_type": "stream",
     "text": [
      "Cloning into 'Crawling'...\n"
     ]
    }
   ],
   "source": [
    "# 폴더를 생성하고 그 폴더 안에 해당하는 소스 코드를 저장합니다.\n",
    "!git clone https://github.com/Leeruru106/Crawling.git"
   ]
  },
  {
   "cell_type": "code",
   "execution_count": 13,
   "id": "e2090df6-22a4-4d79-a2a8-85e68a4eaf85",
   "metadata": {},
   "outputs": [
    {
     "name": "stderr",
     "output_type": "stream",
     "text": [
      "fatal: destination path '.' already exists and is not an empty directory.\n"
     ]
    }
   ],
   "source": [
    "#폴더를 생성하지않고 소스코드를 저장합니다.\n",
    "!git clone https://github.com/Leeruru106/Crawling.git ."
   ]
  },
  {
   "cell_type": "markdown",
   "id": "88d4f250-3cf3-40ec-be9e-72c33492a94a",
   "metadata": {},
   "source": [
    "# **4. 다른사람과의 협업**\n",
    "원하는 Repository -> Settings -> 왼쪽 메뉴 collaborators -> Manage access에서 Add people 클릭 -> 이름 or 이메일을 추가 -> 초대받은 계정의 메일에서 수락"
   ]
  },
  {
   "cell_type": "markdown",
   "id": "140f793a-4d8d-4906-a599-ecc3ed66f118",
   "metadata": {},
   "source": [
    "### 4-1. Git Repository Fork\n",
    "* 하나의 Repository를 다른 계정(또는 네임스페이스)으로 복사하는 행위를 말함(클론은 아님)\n",
    "* Git 명령어가 아닌 Github에서 제공하는 명령어\n",
    "* 다른 사람의 github계정에서 repositort에서 fork를 눌러서 내 계정 repository로 복사\n"
   ]
  },
  {
   "cell_type": "markdown",
   "id": "7489a93c-3f95-45e9-b6ca-e5218fe75dd2",
   "metadata": {},
   "source": [
    "### 4-2 pull\n",
    "* 원격저장소에서fetch명령어로 가져온 후 merge까지 한번에 실행하는 명령"
   ]
  },
  {
   "cell_type": "code",
   "execution_count": 15,
   "id": "b07eb76a-4bae-4e12-9b91-5410d8f41e08",
   "metadata": {},
   "outputs": [
    {
     "name": "stdout",
     "output_type": "stream",
     "text": [
      "Updating 3c21e14..ed99d8a\n",
      "Fast-forward\n",
      " README.md | 10 +++++-----\n",
      " 1 file changed, 5 insertions(+), 5 deletions(-)\n"
     ]
    },
    {
     "name": "stderr",
     "output_type": "stream",
     "text": [
      "From https://github.com/Leeruru106/Crawling\n",
      "   3c21e14..ed99d8a  master     -> origin/master\n"
     ]
    }
   ],
   "source": [
    "!git pull origin "
   ]
  },
  {
   "cell_type": "markdown",
   "id": "868b359b-a80e-4e78-b959-0467a8821ab5",
   "metadata": {},
   "source": [
    "### 4-3. fetch\n",
    "* 원격저장소에서 소스를 가져오기(merge를 사용하지 않음)"
   ]
  },
  {
   "cell_type": "code",
   "execution_count": 16,
   "id": "5d0e1275-5c98-4658-8393-81c691cd54eb",
   "metadata": {},
   "outputs": [],
   "source": [
    "!git fetch origin"
   ]
  },
  {
   "cell_type": "markdown",
   "id": "d7dc439b-e236-49f3-accf-a3c149448508",
   "metadata": {},
   "source": [
    "### 4-4. brannch\n",
    "* 작업에 대한 가지\n",
    "* 큰 줄기(master)에 영향을 주지않고 가지에서만 작업을 별도로 할 수 있음\n",
    "* 브랜치를 사용하여 저장소의 메인 분기에 영향을 미치지 않고 여러 기능이나 버그 수정을 동시에 수행할 수 있음."
   ]
  },
  {
   "cell_type": "code",
   "execution_count": 18,
   "id": "1f762fe3-29bc-49ea-919d-e92b7301c205",
   "metadata": {},
   "outputs": [
    {
     "name": "stderr",
     "output_type": "stream",
     "text": [
      "Switched to a new branch 'dev'\n"
     ]
    }
   ],
   "source": [
    "!git checkout -b dev"
   ]
  },
  {
   "cell_type": "markdown",
   "id": "02383854-dff8-4bf0-a67a-fbd6eda147df",
   "metadata": {},
   "source": [
    "# **5. .gitignore파일**\n",
    "프로젝트에 원하지 않는 백업 파일이나 로그파일 혹은 보안상 문제가 있는 파일들을 git에서 제외시킬 수 있는 설정 파일입니다."
   ]
  },
  {
   "cell_type": "markdown",
   "id": "533b256a-c616-4030-9cdf-7cec49ac71cb",
   "metadata": {},
   "source": [
    "# 모든 확장자를 제외\n",
    "# 1. *.txt 예)txt파일은 제외\n",
    "\n",
    "# 2. 현재 폴더 중에서 특정 폴더에 있는 모든 파일을 제외\n",
    "# test/ 예)test폴더 안에있는 모든 파일을 제외\n",
    "# 현재 폴더 중에서 특정 폴더 바로 밑에 있는 특정 파일만 제외시키는 방법\n",
    "# test/*.txt 예)test폴더 안에 .txt파일만 제외\n"
   ]
  },
  {
   "cell_type": "code",
   "execution_count": 20,
   "id": "f1af5f1f-c8a1-46b6-af4b-cdef35863a24",
   "metadata": {},
   "outputs": [
    {
     "name": "stderr",
     "output_type": "stream",
     "text": [
      "warning: in the working copy of '.ipynb_checkpoints/Crawling-checkpoint.ipynb', LF will be replaced by CRLF the next time Git touches it\n",
      "warning: in the working copy of 'Crawling.ipynb', LF will be replaced by CRLF the next time Git touches it\n"
     ]
    }
   ],
   "source": [
    "!git add ."
   ]
  },
  {
   "cell_type": "code",
   "execution_count": 19,
   "id": "50b70d39-4ee2-4c31-93cd-a46d7008284c",
   "metadata": {},
   "outputs": [
    {
     "name": "stdout",
     "output_type": "stream",
     "text": [
      "On branch dev\n",
      "Changes not staged for commit:\n",
      "  (use \"git add <file>...\" to update what will be committed)\n",
      "  (use \"git restore <file>...\" to discard changes in working directory)\n",
      "\tmodified:   .ipynb_checkpoints/Crawling-checkpoint.ipynb\n",
      "\tmodified:   Crawling.ipynb\n",
      "\n",
      "Untracked files:\n",
      "  (use \"git add <file>...\" to include in what will be committed)\n",
      "\t.gitignore\n",
      "\n",
      "no changes added to commit (use \"git add\" and/or \"git commit -a\")\n"
     ]
    }
   ],
   "source": [
    "!git commit -m \"gitignore 파일 적용 후 커밋\""
   ]
  },
  {
   "cell_type": "code",
   "execution_count": 21,
   "id": "52e2d69e-7abd-49f9-b8a5-da6d948fa972",
   "metadata": {},
   "outputs": [
    {
     "name": "stdout",
     "output_type": "stream",
     "text": [
      "branch 'dev' set up to track 'origin/dev'.\n"
     ]
    },
    {
     "name": "stderr",
     "output_type": "stream",
     "text": [
      "remote: \n",
      "remote: Create a pull request for 'dev' on GitHub by visiting:        \n",
      "remote:      https://github.com/Leeruru106/Crawling/pull/new/dev        \n",
      "remote: \n",
      "To https://github.com/Leeruru106/Crawling.git\n",
      " * [new branch]      dev -> dev\n"
     ]
    }
   ],
   "source": [
    "!git push -u origin dev"
   ]
  },
  {
   "cell_type": "code",
   "execution_count": null,
   "id": "0ff70f17-053d-40e0-82cd-25f2732507d0",
   "metadata": {},
   "outputs": [],
   "source": []
  }
 ],
 "metadata": {
  "kernelspec": {
   "display_name": "Python 3 (ipykernel)",
   "language": "python",
   "name": "python3"
  },
  "language_info": {
   "codemirror_mode": {
    "name": "ipython",
    "version": 3
   },
   "file_extension": ".py",
   "mimetype": "text/x-python",
   "name": "python",
   "nbconvert_exporter": "python",
   "pygments_lexer": "ipython3",
   "version": "3.11.9"
  }
 },
 "nbformat": 4,
 "nbformat_minor": 5
}
